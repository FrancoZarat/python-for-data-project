{
 "cells": [
  {
   "cell_type": "code",
   "execution_count": 7,
   "id": "79b51d7d-ffa3-417b-b53a-a175c86cabfd",
   "metadata": {},
   "outputs": [
    {
     "name": "stdin",
     "output_type": "stream",
     "text": [
      "Nombre:  d\n",
      "Edad:  d\n",
      "Ciudad:  d\n",
      "Si o No:  d\n"
     ]
    }
   ],
   "source": [
    "#Voy a crear un pequeño modulo para ingresar informacion de usuarios\n",
    "#datos base\n",
    "nombreUsuario=input(\"Nombre: \")\n",
    "edadUsuario=input(\"Edad: \")\n",
    "ciudadUsuario=input(\"Ciudad: \")\n",
    "estadoEstudiantil=input(\"Si o No: \")\n",
    "#validaciones\n",
    "def esMayor(edadUsuario):\n",
    "    return edadUsuario>=18\n",
    "def puedeVotar(edadUsuario):\n",
    "    return edadUsuario>=16\n",
    "def viveEn(ciudadDeseada,ciudadUsuario):\n",
    "    return ciudadDeseada.upper() == ciudadUsuario.upper()\n",
    "    \n"
   ]
  }
 ],
 "metadata": {
  "kernelspec": {
   "display_name": "Python 3 (ipykernel)",
   "language": "python",
   "name": "python3"
  },
  "language_info": {
   "codemirror_mode": {
    "name": "ipython",
    "version": 3
   },
   "file_extension": ".py",
   "mimetype": "text/x-python",
   "name": "python",
   "nbconvert_exporter": "python",
   "pygments_lexer": "ipython3",
   "version": "3.10.18"
  }
 },
 "nbformat": 4,
 "nbformat_minor": 5
}
