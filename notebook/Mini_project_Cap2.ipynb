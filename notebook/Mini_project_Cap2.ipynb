{
 "cells": [
  {
   "cell_type": "code",
   "execution_count": null,
   "id": "16823323-99ed-4f0f-b03e-8ad2cddb25ec",
   "metadata": {},
   "outputs": [],
   "source": [
    "n(f\"La variable {nombre} debe ser de tipo {tipo}.\")\n",
    "  return variable\n",
    "def validarTipo(variable,nombre,tipo):\n",
    "    if not isinstance(variable,tipo):\n",
    "        raise Exception(f\"Ingresa un {variable} valido\")\n",
    "    return variable"
   ]
  },
  {
   "cell_type": "code",
   "execution_count": 1,
   "id": "b666d920-fa55-4875-8d03-d1cdc125deca",
   "metadata": {},
   "outputs": [],
   "source": [
    "#Voy a crear un pequeño modulo para ingresar informacion de usuarios\n",
    "#datos base\n",
    "def obtener_dato_usuario():\n",
    "    nombreUsuario=validarTipo(input(\"Nombre:\"),\"Nombre\",str)\n",
    "    edadUsuario=validarTipo(input(\"Edad\":),\"Edad\",int)\n",
    "    ciudadUsuario=validarTipo(input(\"Ciudad\"),\"Ciudad\",str)\n",
    "    estadoEstudiantil=validarTipo(input(\"¿Es estudiante? True/False\"),\"Estado estudiantil\",bool)"
   ]
  },
  {
   "cell_type": "code",
   "execution_count": 2,
   "id": "79b51d7d-ffa3-417b-b53a-a175c86cabfd",
   "metadata": {},
   "outputs": [],
   "source": [
    "#validaciones para agregar al perfil del usuario\n",
    "def esMayor(edadUsuario):\n",
    "    return edadUsuario>=18\n",
    "def puedeVotar(edadUsuario):\n",
    "    return edadUsuario>=16\n",
    "def viveEn(ciudadDeseada,ciudadUsuario):\n",
    "    return ciudadDeseada.upper() == ciudadUsuario.upper()"
   ]
  },
  {
   "cell_type": "code",
   "execution_count": 3,
   "id": "c127422b-5a59-4071-80b5-efef23d5d205",
   "metadata": {},
   "outputs": [],
   "source": [
    "#Estructura en la que se guardan los datos del usuario\n",
    "#Almaceno en un diccionario los datos del usuario\n",
    "def crear_dic_usuario():   \n",
    "    usuario={\"nombre\":nombreUsuario,\n",
    "            \"edad\":edadUsuario,\n",
    "            \"ciudad\":ciudadUsuario,\n",
    "                \"es_estudiante\":estadoEstudiantil,\n",
    "                \"es_mayor\":esMayor(edadUsuario),\n",
    "            \"puede_votar\":puedeVotar(edadUsuario),\n",
    "            \"vive_en\":viveEn(\"Hurlingham\",ciudadUsuario)}"
   ]
  },
  {
   "cell_type": "code",
   "execution_count": 4,
   "id": "79bc9bf7-5874-4b38-b02e-b0e8b7fcff30",
   "metadata": {},
   "outputs": [],
   "source": [
    "#Voy guardar la informacion de usuario en un archivo .json\n",
    "def cargar_info(usuario):\n",
    "    with open(\"datos.json\",\"w\"):\n",
    "        json.dump(usuario,datos.json)"
   ]
  },
  {
   "cell_type": "code",
   "execution_count": 5,
   "id": "6ac92820-8f79-4677-b031-1eea3c045eb9",
   "metadata": {},
   "outputs": [],
   "source": [
    "#funcion para mostrar la informacion del usuario\n",
    "def mostrar_perfiles(usuario):\n",
    "    with open(\"datos.json\"):\n",
    "        print(json.load(datos.json))"
   ]
  }
 ],
 "metadata": {
  "kernelspec": {
   "display_name": "Python 3 (ipykernel)",
   "language": "python",
   "name": "python3"
  },
  "language_info": {
   "codemirror_mode": {
    "name": "ipython",
    "version": 3
   },
   "file_extension": ".py",
   "mimetype": "text/x-python",
   "name": "python",
   "nbconvert_exporter": "python",
   "pygments_lexer": "ipython3",
   "version": "3.10.18"
  }
 },
 "nbformat": 4,
 "nbformat_minor": 5
}
