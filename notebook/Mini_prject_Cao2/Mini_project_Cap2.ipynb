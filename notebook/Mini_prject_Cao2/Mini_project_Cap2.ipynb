{
 "cells": [
  {
   "cell_type": "code",
   "execution_count": 8,
   "id": "79b51d7d-ffa3-417b-b53a-a175c86cabfd",
   "metadata": {},
   "outputs": [
    {
     "name": "stdin",
     "output_type": "stream",
     "text": [
      "Nombre:  Franco\n",
      "Edad:  24\n",
      "Ciudad:  Hurlingham\n",
      "¿Es estudiante? Si/No:  Si\n"
     ]
    },
    {
     "name": "stdout",
     "output_type": "stream",
     "text": [
      "Nombre Franco\n",
      "Edad 24\n",
      "Ciudad Hurlingham\n",
      "¿Es estudiante? True\n",
      "¿Es mayor de edad? True\n",
      "¿Vive en hurlingham? True\n"
     ]
    }
   ],
   "source": [
    "#Voy a crear un pequeño modulo para ingresar informacion de usuarios\n",
    "#datos base\n",
    "#Recoleccion de datos base\n",
    "def recolectarDato():    \n",
    "    nombreUsuario=input(\"Nombre: \")\n",
    "    edadUsuario=int(input(\"Edad: \"))\n",
    "    ciudadUsuario=input(\"Ciudad: \")\n",
    "    estadoEstudiantil=input(\"¿Es estudiante? Si/No: \")\n",
    "#validaciones para agregar al perfil del usuario\n",
    "if estadoEstudiantil==\"Si\":\n",
    "    estadoEstudiantil=True\n",
    "else:\n",
    "    estadoEstudiantil=False\n",
    "def esMayor(edadUsuario):\n",
    "    return edadUsuario>=18\n",
    "def puedeVotar(edadUsuario):\n",
    "    return edadUsuario>=16\n",
    "def viveEn(ciudadDeseada,ciudadUsuario):\n",
    "    return ciudadDeseada.upper() == ciudadUsuario.upper()\n",
    "#Estructura en la que se guardan los datos del usuario\n",
    "nuevoUsuario={\"Nombre\":nombreUsuario,\n",
    "             \"Edad\":edadUsuario,\n",
    "             \"Ciudad\":ciudadUsuario,\n",
    "             \"¿Es estudiante?\":estadoEstudiantil,\n",
    "             \"¿Es mayor de edad?\":esMayor(edadUsuario),\n",
    "             \"¿Vive en hurlingham?\":viveEn(\"Hurlingham\",ciudadUsuario)}\n",
    "for clave in nuevoUsuario.keys():\n",
    "    print(clave,nuevoUsuario[clave])\n",
    "    \n"
   ]
  },
  {
   "cell_type": "code",
   "execution_count": null,
   "id": "9ba22576-e579-465b-9294-44091c93b2b0",
   "metadata": {},
   "outputs": [],
   "source": []
  }
 ],
 "metadata": {
  "kernelspec": {
   "display_name": "Python 3 (ipykernel)",
   "language": "python",
   "name": "python3"
  },
  "language_info": {
   "codemirror_mode": {
    "name": "ipython",
    "version": 3
   },
   "file_extension": ".py",
   "mimetype": "text/x-python",
   "name": "python",
   "nbconvert_exporter": "python",
   "pygments_lexer": "ipython3",
   "version": "3.10.18"
  }
 },
 "nbformat": 4,
 "nbformat_minor": 5
}
